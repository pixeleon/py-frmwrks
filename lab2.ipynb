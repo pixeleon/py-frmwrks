{
 "cells": [
  {
   "cell_type": "code",
   "execution_count": 2,
   "metadata": {},
   "outputs": [],
   "source": [
    "import numpy as np"
   ]
  },
  {
   "cell_type": "markdown",
   "metadata": {},
   "source": [
    "1. Perform aset of exercises"
   ]
  },
  {
   "cell_type": "markdown",
   "metadata": {},
   "source": [
    "_Excercise 6_. An array is entered from the keyboard. Replace all non-zero elements with -1"
   ]
  },
  {
   "cell_type": "code",
   "execution_count": 3,
   "metadata": {},
   "outputs": [
    {
     "name": "stdout",
     "output_type": "stream",
     "text": [
      ": 5 6 -1 0 0 2 1 3\n",
      "[-1 -1 -1  0  0 -1 -1 -1]\n"
     ]
    }
   ],
   "source": [
    "def ex6(arr):\n",
    "    arr[arr != 0] = -1\n",
    "    return arr\n",
    "a = np.array([int(i) for i in input(\": \").split()])\n",
    "print(ex6(a))"
   ]
  },
  {
   "cell_type": "markdown",
   "metadata": {},
   "source": [
    "_Excercise 9_. Enter the number _n_. Create an array of values from _n_ to 0."
   ]
  },
  {
   "cell_type": "code",
   "execution_count": 4,
   "metadata": {},
   "outputs": [
    {
     "name": "stdout",
     "output_type": "stream",
     "text": [
      ": 111\n",
      "[111 110 109 108 107 106 105 104 103 102 101 100  99  98  97  96  95  94\n",
      "  93  92  91  90  89  88  87  86  85  84  83  82  81  80  79  78  77  76\n",
      "  75  74  73  72  71  70  69  68  67  66  65  64  63  62  61  60  59  58\n",
      "  57  56  55  54  53  52  51  50  49  48  47  46  45  44  43  42  41  40\n",
      "  39  38  37  36  35  34  33  32  31  30  29  28  27  26  25  24  23  22\n",
      "  21  20  19  18  17  16  15  14  13  12  11  10   9   8   7   6   5   4\n",
      "   3   2   1   0]\n"
     ]
    }
   ],
   "source": [
    "def ex9(n):\n",
    "    return np.arange(n,-1,-1)\n",
    "n = int(input(\": \"))\n",
    "print(ex9(n))"
   ]
  },
  {
   "cell_type": "markdown",
   "metadata": {},
   "source": [
    "_Excercise 10_. Enter the numbers _n_ and _m_. Create an array of random values of size _n_х_m_ and calculate the minimum,  maximum value, mean and standard deviation, rounded to 3 decimal places"
   ]
  },
  {
   "cell_type": "code",
   "execution_count": 25,
   "metadata": {},
   "outputs": [
    {
     "name": "stdout",
     "output_type": "stream",
     "text": [
      "0.9426687015371893\n",
      "0.014200075098755316\n",
      "0.4386051248640602\n",
      "0.2665905870092382\n"
     ]
    }
   ],
   "source": [
    "def ex10(n,m):\n",
    "    arr = np.random.random((n,m))\n",
    "    print(arr.max())\n",
    "    print(arr.min())\n",
    "    print(arr.mean())\n",
    "    print(arr.std())\n",
    "ex10(5,5)"
   ]
  },
  {
   "cell_type": "markdown",
   "metadata": {},
   "source": [
    "Excercise 11. Create an array of 1 of size _n_х_n_ and add to it a \"border\" formed from 0"
   ]
  },
  {
   "cell_type": "code",
   "execution_count": 27,
   "metadata": {},
   "outputs": [
    {
     "name": "stdout",
     "output_type": "stream",
     "text": [
      "[[0 0 0 0 0 0 0 0 0 0]\n",
      " [0 1 1 1 1 1 1 1 1 0]\n",
      " [0 1 1 1 1 1 1 1 1 0]\n",
      " [0 1 1 1 1 1 1 1 1 0]\n",
      " [0 1 1 1 1 1 1 1 1 0]\n",
      " [0 1 1 1 1 1 1 1 1 0]\n",
      " [0 1 1 1 1 1 1 1 1 0]\n",
      " [0 1 1 1 1 1 1 1 1 0]\n",
      " [0 1 1 1 1 1 1 1 1 0]\n",
      " [0 0 0 0 0 0 0 0 0 0]]\n"
     ]
    }
   ],
   "source": [
    "def ex11(n):\n",
    "    arr = np.ones((n,n), dtype=int)\n",
    "    arr[0]=0\n",
    "    arr[-1]=0\n",
    "    arr[:,0]=0\n",
    "    arr[:,-1]=0\n",
    "    return arr\n",
    "print(ex11(10))"
   ]
  },
  {
   "cell_type": "markdown",
   "metadata": {},
   "source": [
    "Excercise 15. Arrange 1 and 0 on the 8х8 field in a checkerboard pattern using the numpy _tile_()."
   ]
  },
  {
   "cell_type": "code",
   "execution_count": 28,
   "metadata": {},
   "outputs": [
    {
     "name": "stdout",
     "output_type": "stream",
     "text": [
      "[[0 1 0 1 0 1 0 1 0 1 0 1 0 1 0 1]\n",
      " [0 1 0 1 0 1 0 1 0 1 0 1 0 1 0 1]\n",
      " [0 1 0 1 0 1 0 1 0 1 0 1 0 1 0 1]\n",
      " [0 1 0 1 0 1 0 1 0 1 0 1 0 1 0 1]\n",
      " [0 1 0 1 0 1 0 1 0 1 0 1 0 1 0 1]\n",
      " [0 1 0 1 0 1 0 1 0 1 0 1 0 1 0 1]\n",
      " [0 1 0 1 0 1 0 1 0 1 0 1 0 1 0 1]\n",
      " [0 1 0 1 0 1 0 1 0 1 0 1 0 1 0 1]]\n"
     ]
    }
   ],
   "source": [
    "def ex15():\n",
    "    return np.tile([0,1], (8,8))\n",
    "print(ex15())"
   ]
  },
  {
   "cell_type": "markdown",
   "metadata": {},
   "source": [
    "Excercise 18. Fill the vector with values from 0 to _n_. Replace signs for all values less than _n_/2 and greater than _n_/4 to opposite ones."
   ]
  },
  {
   "cell_type": "code",
   "execution_count": 32,
   "metadata": {},
   "outputs": [
    {
     "name": "stdout",
     "output_type": "stream",
     "text": [
      "[  0  -1  -2  -3  -4   5   6   7  -8  -9 -10]\n"
     ]
    }
   ],
   "source": [
    "def ex18(n):\n",
    "    arr = np.arange(0,n+1)\n",
    "    arr[(arr < n/2) ^ (arr > 3*n/4)] *= -1\n",
    "    return arr\n",
    "print(ex18(10))"
   ]
  },
  {
   "cell_type": "markdown",
   "metadata": {},
   "source": [
    "Excercise 19. Generate  a  vector  of _n_ random  numbers  in  the  range  from  0  to  99. Determine the number of unique elements in the sequence."
   ]
  },
  {
   "cell_type": "code",
   "execution_count": 61,
   "metadata": {},
   "outputs": [
    {
     "name": "stdout",
     "output_type": "stream",
     "text": [
      "[12 43 26 40 84 59 66 93 44 60 23 23 36 48 98  0 50 40 95 10 75 54 29 36\n",
      " 62 53  9 18 59 39 36 13 55 84 38 55 24  1 45 10 17 91 44 79 15 60 43 62\n",
      " 96 26 26 81 70 86 44 61 12 48 18 12 73 35 21  0  8 82 90  8 26 66 13  0\n",
      " 48 35 46 73 91 38 18 74 20 79 48 32 43  7 78 87 12 73 12 33 90 18 85 49\n",
      " 74 39 87 75]\n",
      "57\n"
     ]
    }
   ],
   "source": [
    "def ex19(n):\n",
    "    arr = np.random.randint(0,100,(n,))\n",
    "    ues = np.unique(arr).size\n",
    "    return arr, ues\n",
    "for r in ex19(100): \n",
    "    print(r)"
   ]
  },
  {
   "cell_type": "markdown",
   "metadata": {},
   "source": [
    "Excercise 20. Generate  a  vector  of _n_ elements  that  are  evenly  spaced  on  the interval (0,1), i.e. both ends of the interval are not included. Output values up to 3 decimal places."
   ]
  },
  {
   "cell_type": "code",
   "execution_count": 70,
   "metadata": {},
   "outputs": [
    {
     "name": "stdout",
     "output_type": "stream",
     "text": [
      "[0.11111111 0.22222222 0.33333333 0.44444444 0.55555556 0.66666667\n",
      " 0.77777778 0.88888889]\n"
     ]
    }
   ],
   "source": [
    "def ex20(n):\n",
    "    arr = np.linspace(0,1,n)[1:-1]\n",
    "    return arr\n",
    "print(ex20(10))"
   ]
  },
  {
   "cell_type": "markdown",
   "metadata": {},
   "source": [
    "Excercise 21. Generate a vector of  _n_ random elements, lying in the interval (0,1). Replace the maximum element with 0."
   ]
  },
  {
   "cell_type": "code",
   "execution_count": 73,
   "metadata": {},
   "outputs": [
    {
     "name": "stdout",
     "output_type": "stream",
     "text": [
      "[0.97754202 0.52112997 0.51913879 0.25256484 0.80514614 0.16894982\n",
      " 0.99440619 0.38606215 0.64442116 0.15755518]\n",
      "[0.97754202 0.52112997 0.51913879 0.25256484 0.80514614 0.16894982\n",
      " 0.         0.38606215 0.64442116 0.15755518]\n"
     ]
    }
   ],
   "source": [
    "def ex21(n):\n",
    "    arr = np.random.random(n)\n",
    "    arr1 = np.where(arr == arr.max(), 0, arr)\n",
    "    return arr, arr1\n",
    "for a in ex21(10):\n",
    "    print(a)"
   ]
  },
  {
   "cell_type": "markdown",
   "metadata": {},
   "source": [
    "2. Solve the system of linear equations using Cramer's formulas and perform a test using matrix multiplication and _numpy.linalg.solve_()."
   ]
  },
  {
   "cell_type": "markdown",
   "metadata": {},
   "source": [
    "$$\n",
    " \\begin{cases}\n",
    "   2x_1+x_3+4x_4=9 \n",
    "   \\\\\n",
    "   x_1+2x_2-x_3+x_4=8\n",
    "   \\\\\n",
    "   2x_1+x_2+x_3+x_4=5,\n",
    "   \\\\\n",
    "   x_1-x_2+2x_3+x_4=-1\n",
    " \\end{cases}\n",
    "$$"
   ]
  },
  {
   "cell_type": "code",
   "execution_count": 117,
   "metadata": {},
   "outputs": [
    {
     "name": "stdout",
     "output_type": "stream",
     "text": [
      "[ 1.  2. -1.  2.]\n",
      "[ 1.  2. -1.  2.]\n",
      "[ 9.  8.  5. -1.]\n",
      "True\n"
     ]
    }
   ],
   "source": [
    "def solve_by_cramer(mA, b):\n",
    "    n = mA.shape[0]\n",
    "    det = np.linalg.det(mA)\n",
    "    xs = np.empty(n)\n",
    "    if det == 0:\n",
    "        return None\n",
    "    for i in range(n):\n",
    "        mAi = np.copy(mA)\n",
    "        mAi[:, i] = b\n",
    "        xs[i] = np.linalg.det(mAi) / det\n",
    "    return xs\n",
    "\n",
    "a = np.array([[2,0,1,4],[1,2,-1,1],[2,1,1,1],[1,-1,2,1]])\n",
    "b = np.array([9,8,5,-1])\n",
    "roots = solve_by_cramer(a, b)\n",
    "print(roots)\n",
    "print(np.linalg.solve(a,b))\n",
    "ax = np.dot(a,roots)\n",
    "print(ax)\n",
    "print(np.allclose(ax, b))"
   ]
  },
  {
   "cell_type": "markdown",
   "metadata": {},
   "source": [
    "3. Calculate the value of the matrix expression"
   ]
  },
  {
   "cell_type": "markdown",
   "metadata": {},
   "source": [
    "\\begin{equation}\n",
    "A(2A+B)-B(A-B), A = \\begin{pmatrix} 2 & 3 & 1  \\\\ 4 & -1 & 0 \\\\ 0 & 1 & 2 \\end{pmatrix}, B= \\begin{pmatrix} 9 & 8 & 7 \\\\ 2 & 7 & 3 \\\\ 4 & 3 & 5\\end{pmatrix}\n",
    "\\end{equation}"
   ]
  },
  {
   "cell_type": "code",
   "execution_count": 116,
   "metadata": {},
   "outputs": [
    {
     "name": "stdout",
     "output_type": "stream",
     "text": [
      "[[135 171 135]\n",
      " [ 54 123  75]\n",
      " [ 60  69  69]]\n"
     ]
    }
   ],
   "source": [
    "def calc(mA, mB):\n",
    "    res = (mA@(mA*2+mB))-(mB@(mA-mB))\n",
    "    return res\n",
    "\n",
    "a = np.array([[2,3,1],[4,-1,0],[0,1,2]])\n",
    "b = np.array([[9,8,7],[2,7,3],[4,3,5]])\n",
    "print(calc(a,b))"
   ]
  },
  {
   "cell_type": "markdown",
   "metadata": {},
   "source": [
    "4. Solve the matrix equation using an inverse matrix and perform a test using matrix multiplication and _numpy.linalg.solve_()."
   ]
  },
  {
   "cell_type": "markdown",
   "metadata": {},
   "source": [
    "\\begin{equation}\n",
    "    \\begin{pmatrix} \n",
    "    5 & 3 & -1 \\\\ 2 & 0 & 4 \\\\ 3 & 5 & -1\n",
    "    \\end{pmatrix}\n",
    "    *X=\n",
    "    \\begin{pmatrix}\n",
    "        1 & 4 & 16 \\\\ -3 & -2 & 0 \\\\ 5 & 7 & 2\n",
    "    \\end{pmatrix}\n",
    "\\end{equation}"
   ]
  },
  {
   "cell_type": "code",
   "execution_count": 121,
   "metadata": {},
   "outputs": [
    {
     "name": "stdout",
     "output_type": "stream",
     "text": [
      "[[-0.67647059 -0.11764706  4.35294118]\n",
      " [ 1.32352941  1.38235294 -2.64705882]\n",
      " [-0.41176471 -0.44117647 -2.17647059]]\n",
      "[[-0.67647059 -0.11764706  4.35294118]\n",
      " [ 1.32352941  1.38235294 -2.64705882]\n",
      " [-0.41176471 -0.44117647 -2.17647059]]\n",
      "[[ 1.  4. 16.]\n",
      " [-3. -2.  0.]\n",
      " [ 5.  7.  2.]]\n",
      "True\n"
     ]
    }
   ],
   "source": [
    "def solve_by_inv(mA, mB):\n",
    "    if np.linalg.det(mA) == 0:\n",
    "        return None\n",
    "    xs = np.linalg.inv(mA) @ mB\n",
    "    return xs\n",
    "\n",
    "a = np.array([[5,3,-1],[2,0,4],[3,5,-1]])\n",
    "b = np.array([[1,4,16],[-3,-2,0],[5,7,2]])\n",
    "roots = solve_by_inv(a,b)\n",
    "print(roots)\n",
    "print(np.linalg.solve(a,b))\n",
    "prod = a @ roots\n",
    "print(prod)\n",
    "print(np.allclose(prod,b))"
   ]
  }
 ],
 "metadata": {
  "kernelspec": {
   "display_name": "Python 3",
   "language": "python",
   "name": "python3"
  },
  "language_info": {
   "codemirror_mode": {
    "name": "ipython",
    "version": 3
   },
   "file_extension": ".py",
   "mimetype": "text/x-python",
   "name": "python",
   "nbconvert_exporter": "python",
   "pygments_lexer": "ipython3",
   "version": "3.8.5"
  }
 },
 "nbformat": 4,
 "nbformat_minor": 4
}
