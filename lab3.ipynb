{
 "cells": [
  {
   "cell_type": "code",
   "execution_count": 1,
   "metadata": {},
   "outputs": [],
   "source": [
    "import numpy as np\n",
    "import matplotlib.pyplot as plt"
   ]
  },
  {
   "cell_type": "markdown",
   "metadata": {},
   "source": [
    "1\\. Modelling and solving linear programming problem:\n",
    "\n",
    "4 types of raw material С1, С2, С3 and С4 are used to produce 2 types of goods P1 and P2.  The total  reserve  and consumption  rates  for producing one  unit  of  goods  are given in the table. Income from selling the unit P1 is 7 units and P2 is 5 units. You should found out how many goods of each type the factory has to manufacture to maximize the total income.\n",
    "\n",
    "| Material | P1 | P2 | Amount |\n",
    "| :--- | --- | --- | --- |\n",
    "| C1 | 2 | 8 | 19 |\n",
    "| C2 | 2 | 1 | 13 |\n",
    "| C3 | 0 | 3 | 15 |\n",
    "| C4 | 3 | 0 | 18 |\n",
    "| Profit | 7 | 5 |  |"
   ]
  },
  {
   "cell_type": "markdown",
   "metadata": {},
   "source": [
    "Mathematical model of the problem:"
   ]
  },
  {
   "cell_type": "markdown",
   "metadata": {},
   "source": [
    "\n",
    "\\begin{equation}\n",
    "    \\bar{z}=7x_1+5x_2\\to max\n",
    "\\end{equation}\n",
    "\n",
    " \\begin{cases}\n",
    "   2x_1+8x_2\\leq 19 \n",
    "   \\\\\n",
    "   2x_1+x_2\\leq 13\n",
    "   \\\\\n",
    "   3x_2\\leq 15,\n",
    "   \\\\\n",
    "   3x_1\\leq 18\n",
    "   x_1,x_2\\geq 0\n",
    " \\end{cases}\n"
   ]
  },
  {
   "cell_type": "code",
   "execution_count": 2,
   "metadata": {},
   "outputs": [],
   "source": [
    "def z(x1):\n",
    "    return (12-7*x1)/5\n",
    "\n",
    "def a1(x1):\n",
    "    return (19-2*x1)/8\n",
    "\n",
    "def a2(x1):\n",
    "    return (13-2*x1)\n",
    "\n",
    "def a3(x1):\n",
    "    return 5"
   ]
  },
  {
   "cell_type": "code",
   "execution_count": 3,
   "metadata": {},
   "outputs": [
    {
     "data": {
      "image/png": "[encoded data removed]",
      "text/plain": [
       "<Figure size 432x288 with 1 Axes>"
      ]
     },
     "metadata": {
      "needs_background": "light"
     },
     "output_type": "display_data"
    }
   ],
   "source": [
    "x1 = np.arange(0, 30, 0.1)\n",
    "y = np.array(np.random.randint(0,20,(25,)))\n",
    "plt.axis([0,10,0,10])\n",
    "plt.grid(True)\n",
    "plt.plot(x1,a1(x1))\n",
    "plt.fill_between(x1,a1(x1), alpha=0.1)\n",
    "plt.plot(x1,a2(x1))\n",
    "plt.fill_between(x1,a2(x1), alpha=0.1)\n",
    "plt.plot([0,20],[5,5])\n",
    "plt.fill_between([0,20],[5,5], alpha=0.1)\n",
    "plt.plot([6,6],[0,20])\n",
    "plt.fill_betweenx([0,20], [6,6], alpha=0.1)\n",
    "plt.plot(x1, z(x1),'--')\n",
    "plt.plot(6,0.875,'ro')\n",
    "plt.annotate('max',xy=(6,0.875),xytext=(8,2),arrowprops=dict(arrowstyle='simple'))\n",
    "plt.annotate('', xy=(2,z(2)+3),xytext=(1,z(1)), arrowprops=dict(arrowstyle='->'))\n",
    "plt.text(3,0.5,\"feasible set\")\n",
    "plt.text(3,1.2,'2x1+8x2<=19', rotation=-10)\n",
    "plt.text(2,6.8,'2x1+x2<=13', rotation=-50)\n",
    "plt.text(8,5.2,'3x2<=15', rotation=0)\n",
    "plt.text(6,7,'3x1<=18', rotation=-90)\n",
    "plt.text(0.4,0.4,'z=16', rotation=-45)\n",
    "plt.title('Graphical solution')\n",
    "plt.xlabel('x1')\n",
    "plt.ylabel('x2')\n",
    "\n",
    "plt.show()"
   ]
  },
  {
   "cell_type": "code",
   "execution_count": 4,
   "metadata": {},
   "outputs": [],
   "source": [
    "from scipy.optimize import linprog"
   ]
  },
  {
   "cell_type": "code",
   "execution_count": 5,
   "metadata": {},
   "outputs": [],
   "source": [
    "import time"
   ]
  },
  {
   "cell_type": "code",
   "execution_count": 6,
   "metadata": {},
   "outputs": [
    {
     "name": "stdout",
     "output_type": "stream",
     "text": [
      "Wall time: 44 ms\n"
     ]
    }
   ],
   "source": [
    "c=[-7,-5]\n",
    "aub=[[2,8],[2,1],[0,3],[3,0]]\n",
    "bub=[19,13,15,18]\n",
    "x1b=(0,None)\n",
    "x2b=(0,None)\n",
    "%time res = linprog(c, A_ub=aub, b_ub=bub, bounds=[x1b, x2b], method='revised simplex')"
   ]
  },
  {
   "cell_type": "code",
   "execution_count": 7,
   "metadata": {},
   "outputs": [
    {
     "name": "stdout",
     "output_type": "stream",
     "text": [
      "SciPy solution: \n",
      "     con: array([], dtype=float64)\n",
      "     fun: -46.375\n",
      " message: 'Optimization terminated successfully.'\n",
      "     nit: 2\n",
      "   slack: array([ 0.   ,  0.125, 12.375,  0.   ])\n",
      "  status: 0\n",
      " success: True\n",
      "       x: array([6.   , 0.875])\n",
      "Optimal value:  46.375\n"
     ]
    }
   ],
   "source": [
    "print(\"SciPy solution: \")\n",
    "print(res)\n",
    "print(\"Optimal value: \", -res.fun)"
   ]
  },
  {
   "cell_type": "code",
   "execution_count": 8,
   "metadata": {
    "scrolled": true
   },
   "outputs": [],
   "source": [
    "import pulp"
   ]
  },
  {
   "cell_type": "code",
   "execution_count": 9,
   "metadata": {},
   "outputs": [
    {
     "name": "stdout",
     "output_type": "stream",
     "text": [
      "Wall time: 435 ms\n"
     ]
    }
   ],
   "source": [
    "x1 = pulp.LpVariable(\"x1\",0)\n",
    "x2 = pulp.LpVariable(\"x2\",0)\n",
    "problem = pulp.LpProblem(\"Problem\", pulp.LpMaximize)\n",
    "problem += 7*x1 + 5*x2, \"obj func\"\n",
    "problem += 2*x1 + 8*x2 <= 19\n",
    "problem += 2*x1 + x2 <= 13\n",
    "problem += 3*x2 <= 15\n",
    "problem += 3*x1 <= 18\n",
    "%time status = problem.solve()\n"
   ]
  },
  {
   "cell_type": "code",
   "execution_count": 10,
   "metadata": {},
   "outputs": [
    {
     "name": "stdout",
     "output_type": "stream",
     "text": [
      "PuLP solution: \n",
      "x1 = 6.0\n",
      "x2 = 0.875\n",
      "46.375\n"
     ]
    }
   ],
   "source": [
    "print(\"PuLP solution: \")\n",
    "for var in problem.variables():\n",
    "    print(var.name, \"=\", var.varValue)\n",
    "print(pulp.value(problem.objective))"
   ]
  },
  {
   "cell_type": "markdown",
   "metadata": {},
   "source": [
    "Comparing obtained solutions:"
   ]
  },
  {
   "cell_type": "code",
   "execution_count": 11,
   "metadata": {},
   "outputs": [
    {
     "data": {
      "text/plain": [
       "True"
      ]
     },
     "execution_count": 11,
     "metadata": {},
     "output_type": "execute_result"
    }
   ],
   "source": [
    "np.allclose(-res.fun, pulp.value(problem.objective))"
   ]
  },
  {
   "cell_type": "markdown",
   "metadata": {},
   "source": [
    "2. Solving transportation problem"
   ]
  },
  {
   "cell_type": "markdown",
   "metadata": {},
   "source": [
    "Transportation problem: There are 5 destinations (in columns) where the products/goods are to be delivered from different 4 sources (in  rows). ai is  the supply form each source; bi is the demand of each destination; cij is the cost when the product is delivered from i-th source to j-th destination. Find a transportation plan that will provide all customers with the necessary goods at the lowest cost."
   ]
  },
  {
   "cell_type": "markdown",
   "metadata": {},
   "source": [
    "| i/j | 1 | 2 | 3 | 4 | 5 | ai |\n",
    "| --- | --- | --- | --- | --- | --- | --- |\n",
    "| 1 | 12 | 5 | 7 | 10 | 9 | 85 |\n",
    "| 2 | 4 | 5 | 11 | 3 | 10 | 110 |\n",
    "| 3 | 15 | 12 | 6 | 5 | 9 | 65 | \n",
    "| 4 | 16 | 8 | 6 | 4 | 5 | 80 |\n",
    "| bi | 90 | 70 | 70 | 60 | 50 |  |"
   ]
  },
  {
   "cell_type": "code",
   "execution_count": 12,
   "metadata": {},
   "outputs": [],
   "source": [
    "from scipy.optimize import linear_sum_assignment"
   ]
  },
  {
   "cell_type": "code",
   "execution_count": 13,
   "metadata": {},
   "outputs": [],
   "source": [
    "# c = [12,5,7,10,9,4,5,11,3,10,15,12,6,5,9,16,8,6,4,5]\n",
    "#cost = np.array([[12,5,7,10,9],[4,5,11,3,10],[15,12,6,5,9],[16,8,6,4,5]])\n",
    "#cost = np.array([[4, 1, 3], [2, 0, 5], [3, 2, 2]])\n",
    "#row_ind, col_ind = linear_sum_assignment(cost.flatten())\n",
    "#print(row_ind)\n",
    "#print(col_ind)\n",
    "#print(np.sum(cost[row_ind, col_ind]))"
   ]
  },
  {
   "cell_type": "code",
   "execution_count": 14,
   "metadata": {},
   "outputs": [
    {
     "name": "stdout",
     "output_type": "stream",
     "text": [
      "Wall time: 28 ms\n"
     ]
    }
   ],
   "source": [
    "AI = 4\n",
    "BI = 5\n",
    "\n",
    "cost = np.array([[12,5,7,10,9],[4,5,11,3,10],[15,12,6,5,9],[16,8,6,4,5]])\n",
    "demand = np.array([85,110,65,80]) # b_eq\n",
    "capacity = np.array([90,70,70,60,50])# b_ub\n",
    "\n",
    "A_eq = np.zeros(AI*BI*AI).reshape(AI, AI*BI)\n",
    "# Constraint for each source, sum over the available destinations\n",
    "for l in range(AI):\n",
    "    for var in range(l*BI, l*BI+BI):\n",
    "        A_eq[l, var] = 1\n",
    "\n",
    "A_ub = np.zeros(BI*AI*BI).reshape(BI, AI*BI)\n",
    "# Constraint for each destinations, sum over the sources\n",
    "for c in range(BI):\n",
    "    for var in range(c, AI*BI, BI):\n",
    "        A_ub[c, var] = 1\n",
    "\n",
    "%time tp_res = linprog(cost.flatten(), A_eq=A_eq, b_eq=demand, A_ub=A_ub, b_ub=capacity, method='revised simplex')"
   ]
  },
  {
   "cell_type": "code",
   "execution_count": 15,
   "metadata": {},
   "outputs": [
    {
     "name": "stdout",
     "output_type": "stream",
     "text": [
      "     con: array([0., 0., 0., 0.])\n",
      "     fun: 1625.0\n",
      " message: 'Optimization terminated successfully.'\n",
      "     nit: 22\n",
      "   slack: array([0., 0., 0., 0., 0.])\n",
      "  status: 0\n",
      " success: True\n",
      "       x: array([ 0., 70., 15.,  0.,  0., 90.,  0.,  0., 20.,  0.,  0.,  0., 55.,\n",
      "       10.,  0.,  0.,  0.,  0., 30., 50.])\n"
     ]
    }
   ],
   "source": [
    "print(tp_res)"
   ]
  },
  {
   "cell_type": "code",
   "execution_count": 16,
   "metadata": {},
   "outputs": [
    {
     "name": "stdout",
     "output_type": "stream",
     "text": [
      "[[ 0. 70. 15.  0.  0.]\n",
      " [90.  0.  0. 20.  0.]\n",
      " [ 0.  0. 55. 10.  0.]\n",
      " [ 0.  0.  0. 30. 50.]]\n"
     ]
    }
   ],
   "source": [
    "print(tp_res.x.reshape(AI, BI))"
   ]
  }
 ],
 "metadata": {
  "kernelspec": {
   "display_name": "Python 3",
   "language": "python",
   "name": "python3"
  },
  "language_info": {
   "codemirror_mode": {
    "name": "ipython",
    "version": 3
   },
   "file_extension": ".py",
   "mimetype": "text/x-python",
   "name": "python",
   "nbconvert_exporter": "python",
   "pygments_lexer": "ipython3",
   "version": "3.8.5"
  }
 },
 "nbformat": 4,
 "nbformat_minor": 4
}
