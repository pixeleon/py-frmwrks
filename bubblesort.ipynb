{
 "cells": [
  {
   "cell_type": "code",
   "execution_count": 11,
   "metadata": {},
   "outputs": [],
   "source": [
    "def task4():\n",
    "    try:\n",
    "        numbs = [int(item) for item in input(\"your numbers: \").split()]\n",
    "        swaps = 0\n",
    "        n = len(numbs)\n",
    "        for i in range(n-1):\n",
    "            for j in range(0, n-i-1):\n",
    "                if numbs[j] > numbs[j+1]:\n",
    "                    numbs[j], numbs[j+1] = numbs[j+1], numbs[j]\n",
    "                    swaps += 1\n",
    "        print(\"sorted list: \" + str(numbs))\n",
    "        print(str(swaps) + ' swaps were made')\n",
    "    except TypeError:\n",
    "        print(\"non-integer input!\")\n",
    "    except ValueError:\n",
    "        print(\"invalid value input!\")\n",
    "    except Exception:\n",
    "        print(\"unknown error...\")"
   ]
  },
  {
   "cell_type": "code",
   "execution_count": 13,
   "metadata": {},
   "outputs": [
    {
     "name": "stdout",
     "output_type": "stream",
     "text": [
      "your numbers: 55 e 33 11 22\n",
      "invalid value input!\n"
     ]
    }
   ],
   "source": [
    "task4()"
   ]
  },
  {
   "cell_type": "code",
   "execution_count": 14,
   "metadata": {},
   "outputs": [
    {
     "name": "stdout",
     "output_type": "stream",
     "text": [
      "your numbers: 5 6 2 1 6 2 8\n",
      "sorted list: [1, 2, 2, 5, 6, 6, 8]\n",
      "8 swaps were made\n"
     ]
    }
   ],
   "source": [
    "task4()"
   ]
  },
  {
   "cell_type": "code",
   "execution_count": 15,
   "metadata": {},
   "outputs": [
    {
     "name": "stdout",
     "output_type": "stream",
     "text": [
      "your numbers: aaaaaaaaaaaaaaaaaaaaaaaaaaaaaaa\n",
      "invalid value input!\n"
     ]
    }
   ],
   "source": [
    "task4()"
   ]
  },
  {
   "cell_type": "code",
   "execution_count": 16,
   "metadata": {},
   "outputs": [
    {
     "name": "stdout",
     "output_type": "stream",
     "text": [
      "your numbers: 11 40  19 9 20 20\n",
      "sorted list: [9, 11, 19, 20, 20, 40]\n",
      "6 swaps were made\n"
     ]
    }
   ],
   "source": [
    "task4()"
   ]
  }
 ],
 "metadata": {
  "kernelspec": {
   "display_name": "Python 3",
   "language": "python",
   "name": "python3"
  },
  "language_info": {
   "codemirror_mode": {
    "name": "ipython",
    "version": 3
   },
   "file_extension": ".py",
   "mimetype": "text/x-python",
   "name": "python",
   "nbconvert_exporter": "python",
   "pygments_lexer": "ipython3",
   "version": "3.8.5"
  }
 },
 "nbformat": 4,
 "nbformat_minor": 4
}
