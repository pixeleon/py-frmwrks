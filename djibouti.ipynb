{
 "cells": [
  {
   "cell_type": "markdown",
   "metadata": {},
   "source": [
    "# Republic of Djibouti\n",
    "**Djibouti** (*jih-BOO-tee*) is a small country in eastern Africa, located in the Horn of Africa. Djibouti is bordered by Eritrea in the north, Ethiopia in the west and south, and Somalia, especially the break away country Somaliland in the southeast. The remainder of the border is formed by the Red Sea and the Gulf of Aden. On the other side of the Red Sea, on the Arabian Peninsula, 20 kilometres (12 mi) from the coast of Djibouti, is Yemen. "
   ]
  },
  {
   "cell_type": "markdown",
   "metadata": {},
   "source": [
    "![djiboutipicture](https://airlines-airports.com/wp-content/uploads/2017/06/Djibouti-Republic-of-Djibouti.jpg)"
   ]
  },
  {
   "cell_type": "code",
   "execution_count": 1,
   "metadata": {
    "scrolled": true
   },
   "outputs": [
    {
     "data": {
      "text/html": [
       "<svg height=\"200\" width=\"300\" >\n",
       "    <polygon points=\"0,0 175,100 300,100 300,0\" fill=\"#6AB2E7\"/>\n",
       "    <polygon points=\"0,200 175,100 300,100 300,300\" fill=\"#12AD2B\"/>\n",
       "    <polygon points=\"35,90 75,90 45,110 55,75 65,110\" fill=\"red\"/>\n",
       "</svg>\n"
      ],
      "text/plain": [
       "<IPython.core.display.HTML object>"
      ]
     },
     "metadata": {},
     "output_type": "display_data"
    }
   ],
   "source": [
    "%%html\n",
    "<svg height=\"200\" width=\"300\" >\n",
    "    <polygon points=\"0,0 175,100 300,100 300,0\" fill=\"#6AB2E7\"/>\n",
    "    <polygon points=\"0,200 175,100 300,100 300,300\" fill=\"#12AD2B\"/>\n",
    "    <polygon points=\"35,90 75,90 45,110 55,75 65,110\" fill=\"red\"/>\n",
    "</svg>\n"
   ]
  },
  {
   "cell_type": "code",
   "execution_count": 2,
   "metadata": {},
   "outputs": [
    {
     "data": {
      "text/html": [
       "<style>\n",
       ".motto{\n",
       "    color:red;\n",
       "    border:10px solid #6AB2E7;\n",
       "    background: #12AD2B;\n",
       "    padding: 10px;\n",
       "    \n",
       "}\n",
       "</style>\n",
       "<div class=\"motto\">Unity, Equality, Peace!</div>\n"
      ],
      "text/plain": [
       "<IPython.core.display.HTML object>"
      ]
     },
     "metadata": {},
     "output_type": "display_data"
    }
   ],
   "source": [
    "%%HTML\n",
    "<style>\n",
    ".motto{\n",
    "    color:red;\n",
    "    border:10px solid #6AB2E7;\n",
    "    background: #12AD2B;\n",
    "    padding: 10px;\n",
    "    \n",
    "}\n",
    "</style>\n",
    "<div class=\"motto\">Unity, Equality, Peace!</div>"
   ]
  },
  {
   "cell_type": "markdown",
   "metadata": {},
   "source": [
    "## Djibouti facts\n",
    "* Capital: Djibouti City\n",
    "* Official  languages:\n",
    "  * French\n",
    "  * Arabic\n",
    "* Religion: Islam\n",
    "* Area: \n",
    "  * Total: 23 200 km2\n",
    "  * Water (%): 0.09\n",
    "* Population:\n",
    "  * Estimate: 921800\n",
    "  * Density: 37.2/km2\n",
    "* GDP (PPP):\n",
    "  * Total: \\$2187 billion\n",
    "  * Per capita: \\$3788"
   ]
  },
  {
   "cell_type": "markdown",
   "metadata": {},
   "source": [
    "## Djibouti regions\n",
    "\n",
    "Djibouti is partitioned into six administrative regions, with Djibouti city representing one of the official regions.\n",
    "\n",
    "|Name|Area|Population|\n",
    "|:---|---:|---:|\n",
    "|*Ali Sabieh*|2200|71640|\n",
    "|*Arta*|1800|40163|\n",
    "|*Dikhil*|7200|83409|\n",
    "|*Djibouti*|200|529900|\n",
    "|*Obock*|4700|36083|\n",
    "|*Tadjourah*|7100|84041|"
   ]
  },
  {
   "cell_type": "markdown",
   "metadata": {},
   "source": [
    "[![Regions of Djibouti](https://upload.wikimedia.org/wikipedia/commons/a/a7/The_Regions_of_Djibouti.png \"Regions of Djibouti\")](https://upload.wikimedia.org/wikipedia/commons/a/a7/The_Regions_of_Djibouti.png)"
   ]
  },
  {
   "cell_type": "markdown",
   "metadata": {},
   "source": [
    "## Djibouti economy\n",
    "\n",
    "In 2018 Djibouti exported a total of \\\\$97.8M, making it the number 190 exporter in the world. During the last five reported years the exports of Djibouti have changed by \\\\$16.9M from \\\\$80.9M in 2013 to \\\\$97.8M in 2018.\n",
    "\n",
    "Main exports:\n",
    "<ul>\n",
    "    <li><font color=\"#F2AA86\"> sheep and goats</li>    \n",
    "    <li><font color=\"#F2AA86\"> other animals</li>    \n",
    "    <li><font color=\"#F4CE0F\">coffee</li>    \n",
    "    <li><font color=\"#F4CE0F\">dried legumes</li>    \n",
    "    <li><font color=\"#F4CE0F\">soybeans</li>    \n",
    "</ul>\n",
    "\n",
    "Main mports:\n",
    "<ul>\n",
    "    <li><font color=\"#A53200\"> refined petroleum</li>    \n",
    "    <li><font color=\"#EDB73E\"> palm oil</li>    \n",
    "    <li><font color=\"#A0D447\">raw sugar</li>    \n",
    "    <li><font color=\"#AA7329\">cotted flat-rolled iron</li>    \n",
    "</ul>"
   ]
  },
  {
   "cell_type": "code",
   "execution_count": null,
   "metadata": {},
   "outputs": [],
   "source": []
  }
 ],
 "metadata": {
  "kernelspec": {
   "display_name": "Python 3",
   "language": "python",
   "name": "python3"
  },
  "language_info": {
   "codemirror_mode": {
    "name": "ipython",
    "version": 3
   },
   "file_extension": ".py",
   "mimetype": "text/x-python",
   "name": "python",
   "nbconvert_exporter": "python",
   "pygments_lexer": "ipython3",
   "version": "3.8.5"
  }
 },
 "nbformat": 4,
 "nbformat_minor": 4
}
